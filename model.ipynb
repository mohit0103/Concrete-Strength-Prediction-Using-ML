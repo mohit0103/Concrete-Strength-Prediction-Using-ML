{
 "cells": [
  {
   "cell_type": "code",
   "execution_count": 2,
   "id": "f6ab2dba",
   "metadata": {},
   "outputs": [
    {
     "name": "stdout",
     "output_type": "stream",
     "text": [
      "Model score: 0.8841401081258502\n"
     ]
    }
   ],
   "source": [
    "import pandas as pd\n",
    "import numpy as np\n",
    "from sklearn.ensemble import RandomForestRegressor\n",
    "from sklearn.model_selection import train_test_split\n",
    "from sklearn.metrics import mean_squared_error\n",
    "from sklearn.metrics import r2_score\n",
    "import warnings\n",
    "\n",
    "# Read the Excel file into a pandas DataFrame\n",
    "df = pd.read_csv('Concrete_Data.csv')\n",
    "\n",
    "df.columns = ['cement','blastFurnace','flyAsh','water','superplasticizer','courseAggregate','fineaggregate','age','strength']\n",
    "\n",
    "# Extract the features and target variable\n",
    "# X = df.iloc[:, :-1].values\n",
    "# y = df.iloc[:, -1].values\n",
    "\n",
    "X = df.drop('strength', axis=1)\n",
    "y = df['strength']\n",
    "\n",
    "# Split the data into training and testing sets\n",
    "X_train, X_test, y_train, y_test = train_test_split(X, y, test_size=0.2, random_state=42)\n",
    "\n",
    "# Train the Random Forest Regressor model\n",
    "rf = RandomForestRegressor(n_estimators=100, random_state=42)\n",
    "rf.fit(X_train, y_train)\n",
    "y_pred = rf.predict(X_test)\n",
    "\n",
    "# Evaluate the model on the testing set\n",
    "score = rf.score(X_test, y_test)\n",
    "print('Model score:', score)"
   ]
  },
  {
   "cell_type": "code",
   "execution_count": 11,
   "id": "66d8f54a",
   "metadata": {},
   "outputs": [
    {
     "name": "stdout",
     "output_type": "stream",
     "text": [
      "Predicted Concrete Strength: 30.087800000000005\n"
     ]
    },
    {
     "name": "stderr",
     "output_type": "stream",
     "text": [
      "c:\\Users\\Piya\\AppData\\Local\\Programs\\Python\\Python311\\Lib\\site-packages\\sklearn\\base.py:465: UserWarning: X does not have valid feature names, but RandomForestRegressor was fitted with feature names\n",
      "  warnings.warn(\n"
     ]
    }
   ],
   "source": [
    "# Debug\n",
    "\n",
    "Cement = float(200)\n",
    "Blast_Furnace = float(20)\n",
    "Fly_Ash = float(40)\n",
    "Water = float(230)\n",
    "Superplasticizer = float(120)\n",
    "Coarse_Aggregate = float(800)\n",
    "Fine_Aggregate = float(400)\n",
    "Age = float(28)\n",
    "\n",
    "specific_features = np.array([Cement, Blast_Furnace, Fly_Ash, Water, Superplasticizer, Coarse_Aggregate, Fine_Aggregate, Age])\n",
    "specific_features = specific_features.reshape(1, -1)\n",
    "predicted_strength = rf.predict(specific_features)\n",
    "\n",
    "print(f\"Predicted Concrete Strength: {predicted_strength[0]}\")"
   ]
  },
  {
   "cell_type": "code",
   "execution_count": 9,
   "id": "61dff34a",
   "metadata": {},
   "outputs": [
    {
     "name": "stdout",
     "output_type": "stream",
     "text": [
      "Predicted Concrete Strength: 43.501000000000005\n"
     ]
    },
    {
     "name": "stderr",
     "output_type": "stream",
     "text": [
      "c:\\Users\\Piya\\AppData\\Local\\Programs\\Python\\Python311\\Lib\\site-packages\\sklearn\\base.py:465: UserWarning: X does not have valid feature names, but RandomForestRegressor was fitted with feature names\n",
      "  warnings.warn(\n"
     ]
    }
   ],
   "source": [
    "# Debug\n",
    "\n",
    "Cement = float(200)\n",
    "Blast_Furnace = float(20)\n",
    "Fly_Ash = float(40)\n",
    "Water = float(230)\n",
    "Superplasticizer = float(120)\n",
    "Coarse_Aggregate = float(800)\n",
    "Fine_Aggregate = float(400)\n",
    "Age = float(28)\n",
    "\n",
    "specific_features = np.array([400, 20, 30, 250, 10, 800, 400, 28])\n",
    "specific_features = specific_features.reshape(1, -1)\n",
    "predicted_strength = rf.predict(specific_features)\n",
    "\n",
    "print(f\"Predicted Concrete Strength: {predicted_strength[0]}\")"
   ]
  },
  {
   "cell_type": "code",
   "execution_count": 5,
   "id": "7507615a",
   "metadata": {},
   "outputs": [],
   "source": [
    "# Saving the trained model\n",
    "import pickle\n",
    "filename = 'trainedModel.sav'\n",
    "pickle.dump(rf, open(filename, 'wb'))"
   ]
  },
  {
   "cell_type": "code",
   "execution_count": 6,
   "id": "f651ad85",
   "metadata": {},
   "outputs": [],
   "source": [
    "# loading the model\n",
    "loaded_model = pickle.load(open('trainedModel.sav', 'rb'))"
   ]
  }
 ],
 "metadata": {
  "kernelspec": {
   "display_name": "Python 3 (ipykernel)",
   "language": "python",
   "name": "python3"
  },
  "language_info": {
   "codemirror_mode": {
    "name": "ipython",
    "version": 3
   },
   "file_extension": ".py",
   "mimetype": "text/x-python",
   "name": "python",
   "nbconvert_exporter": "python",
   "pygments_lexer": "ipython3",
   "version": "3.11.5"
  }
 },
 "nbformat": 4,
 "nbformat_minor": 5
}
